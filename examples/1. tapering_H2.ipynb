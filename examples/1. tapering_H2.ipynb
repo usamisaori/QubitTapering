{
 "cells": [
  {
   "cell_type": "code",
   "execution_count": 1,
   "id": "00970521",
   "metadata": {},
   "outputs": [],
   "source": [
    "import sys\n",
    "sys.path.append('../')\n",
    "from mytapering import *"
   ]
  },
  {
   "cell_type": "code",
   "execution_count": 2,
   "id": "a89e94b4",
   "metadata": {},
   "outputs": [],
   "source": [
    "import pennylane as qml\n",
    "from pennylane import qchem\n",
    "\n",
    "import numpy as np\n",
    "from time import time"
   ]
  },
  {
   "cell_type": "code",
   "execution_count": 3,
   "id": "6c32f3b8",
   "metadata": {},
   "outputs": [],
   "source": [
    "np.set_printoptions(precision=6)"
   ]
  },
  {
   "cell_type": "markdown",
   "id": "8feb84d9",
   "metadata": {},
   "source": [
    "# 1. Example: H2"
   ]
  },
  {
   "cell_type": "code",
   "execution_count": 4,
   "id": "5e23f864",
   "metadata": {},
   "outputs": [],
   "source": [
    "symbols = [\"H\", \"H\"]\n",
    "coordinates = np.array([0.0, 0.0, -0.6614, 0.0, 0.0, 0.6614])"
   ]
  },
  {
   "cell_type": "code",
   "execution_count": 5,
   "id": "3c38535a",
   "metadata": {},
   "outputs": [
    {
     "name": "stdout",
     "output_type": "stream",
     "text": [
      "Number of qubits =  4\n",
      "The Hamiltonian is \n",
      "   (-0.24274501260941383) [Z2]\n",
      "+ (-0.24274501260941383) [Z3]\n",
      "+ (-0.042072551947440084) [I0]\n",
      "+ (0.1777135822909176) [Z0]\n",
      "+ (0.1777135822909176) [Z1]\n",
      "+ (0.12293330449299354) [Z0 Z2]\n",
      "+ (0.12293330449299354) [Z1 Z3]\n",
      "+ (0.1676833885560135) [Z0 Z3]\n",
      "+ (0.1676833885560135) [Z1 Z2]\n",
      "+ (0.17059759276836806) [Z0 Z1]\n",
      "+ (0.17627661394181787) [Z2 Z3]\n",
      "+ (-0.04475008406301996) [Y0 Y1 X2 X3]\n",
      "+ (-0.04475008406301996) [X0 X1 Y2 Y3]\n",
      "+ (0.04475008406301996) [Y0 X1 X2 Y3]\n",
      "+ (0.04475008406301996) [X0 Y1 Y2 X3]\n",
      "--------------------\n",
      "Number of terms:  15\n"
     ]
    }
   ],
   "source": [
    "# 基于JW变换构建的H2哈密顿量\n",
    "H, qubits = qml.qchem.molecular_hamiltonian(symbols, coordinates)\n",
    "print(\"Number of qubits = \", qubits)\n",
    "print(\"The Hamiltonian is \\n\", H)\n",
    "print(\"-\" * 20)\n",
    "print(\"Number of terms: \", len(H.ops))"
   ]
  },
  {
   "cell_type": "markdown",
   "id": "4af414a6",
   "metadata": {},
   "source": [
    "## 1.1 Tapering using QML"
   ]
  },
  {
   "cell_type": "code",
   "execution_count": 6,
   "id": "085ce22e",
   "metadata": {},
   "outputs": [
    {
     "name": "stdout",
     "output_type": "stream",
     "text": [
      "time cost: 0.09068441390991211\n",
      "Number of qubit after tapering = 1\n",
      "The tapered Hamiltonian is \n",
      "   ((-0.27643173133526805-6.938893903907228e-18j)) [I0]\n",
      "+ ((0.17900033625207976+0j)) [X0]\n",
      "+ ((0.8409171898006624-1.9081958235744878e-17j)) [Z0]\n"
     ]
    },
    {
     "name": "stderr",
     "output_type": "stream",
     "text": [
      "C:\\Users\\Lee\\anaconda3\\envs\\qiskit\\lib\\site-packages\\pennylane\\operation.py:1921: UserWarning: Tensor object acts on overlapping wires; in some PennyLane functions this will lead to undefined behaviour\n",
      "  warnings.warn(\n",
      "C:\\Users\\Lee\\anaconda3\\envs\\qiskit\\lib\\site-packages\\pennylane\\operation.py:2111: UserWarning: Tensor object acts on overlapping wires; in some PennyLane functions this will lead to undefined behaviour\n",
      "  warnings.warn(\n"
     ]
    }
   ],
   "source": [
    "begin = time()\n",
    "generators_by_qml = qml.symmetry_generators(H)\n",
    "paulixops_by_qml = qml.paulix_ops(generators_by_qml, qubits)\n",
    "\n",
    "n_electrons = 2\n",
    "paulix_sector_by_qml = qml.qchem.optimal_sector(H, generators_by_qml, n_electrons)\n",
    "\n",
    "H_tapered = qml.taper(H, generators_by_qml, paulixops_by_qml, paulix_sector_by_qml)\n",
    "print(f'time cost: {time() - begin}')\n",
    "\n",
    "print(\"Number of qubit after tapering =\", len(H_tapered.wires))\n",
    "print(\"The tapered Hamiltonian is \\n\", H_tapered)"
   ]
  },
  {
   "cell_type": "code",
   "execution_count": 7,
   "id": "93f62f48",
   "metadata": {},
   "outputs": [
    {
     "name": "stdout",
     "output_type": "stream",
     "text": [
      "-0.276431731335 I\n",
      " 0.840917189801 Z\n",
      " 0.179000336252 X\n"
     ]
    }
   ],
   "source": [
    "Hami_reduced_by_qml = create_pauliwords_from_hamilton(H_tapered, len(H_tapered.wires))"
   ]
  },
  {
   "cell_type": "markdown",
   "id": "6f9aebd1",
   "metadata": {},
   "source": [
    "## 1.2 Tapering using mytarpering"
   ]
  },
  {
   "cell_type": "code",
   "execution_count": 8,
   "id": "c3c2bc2b",
   "metadata": {},
   "outputs": [
    {
     "name": "stdout",
     "output_type": "stream",
     "text": [
      "-0.042072551947 IIII\n",
      " 0.177713582291 ZIII\n",
      " 0.177713582291 IZII\n",
      " 0.170597592768 ZZII\n",
      " 0.044750084063 YXXY\n",
      "-0.044750084063 YYXX\n",
      "-0.044750084063 XXYY\n",
      " 0.044750084063 XYYX\n",
      "-0.242745012609 IIZI\n",
      " 0.122933304493 ZIZI\n",
      "-0.242745012609 IIIZ\n",
      " 0.167683388556 ZIIZ\n",
      " 0.167683388556 IZZI\n",
      " 0.122933304493 IZIZ\n",
      " 0.176276613942 IIZZ\n"
     ]
    }
   ],
   "source": [
    "Hami_ori = create_pauliwords_from_hamilton(H, qubits)"
   ]
  },
  {
   "cell_type": "code",
   "execution_count": 9,
   "id": "9976adea",
   "metadata": {},
   "outputs": [
    {
     "name": "stdout",
     "output_type": "stream",
     "text": [
      "time cost: 0.01950550079345703\n",
      "Number of qubit after tapering = 1\n",
      "The tapered Hamiltonian is \n",
      " -0.27643173+0.00000000j I\n",
      "0.84091719+0.00000000j Z\n",
      "0.17900034+0.00000000j X\n"
     ]
    }
   ],
   "source": [
    "begin = time()\n",
    "Hami_reduced_by_tapering = tapering(Hami_ori, n_electrons=2)\n",
    "print(f'time cost: {time() - begin}')\n",
    "print(\"Number of qubit after tapering =\", Hami_reduced_by_tapering.num_qubits)\n",
    "print(\"The tapered Hamiltonian is \\n\", Hami_reduced_by_tapering)"
   ]
  },
  {
   "cell_type": "markdown",
   "id": "2c8202e1",
   "metadata": {},
   "source": [
    "## 1.3 compare"
   ]
  },
  {
   "cell_type": "markdown",
   "id": "8551f859",
   "metadata": {},
   "source": [
    "### 1.3.1 generators and paulixops"
   ]
  },
  {
   "cell_type": "code",
   "execution_count": 10,
   "id": "6fac88f3",
   "metadata": {},
   "outputs": [
    {
     "name": "stdout",
     "output_type": "stream",
     "text": [
      "generator 1:   (1.0) [Z0 Z1], paulix_op: PauliX(wires=[1])\n",
      "generator 2:   (1.0) [Z0 Z2], paulix_op: PauliX(wires=[2])\n",
      "generator 3:   (1.0) [Z0 Z3], paulix_op: PauliX(wires=[3])\n"
     ]
    }
   ],
   "source": [
    "for idx, generator in enumerate(generators_by_qml):\n",
    "    print(f\"generator {idx+1}: {generator}, paulix_op: {paulixops_by_qml[idx]}\")"
   ]
  },
  {
   "cell_type": "code",
   "execution_count": 11,
   "id": "1af8d1ce",
   "metadata": {},
   "outputs": [
    {
     "name": "stdout",
     "output_type": "stream",
     "text": [
      "generator 1: 1.00000000 ZZII, paulix_op: 1.00000000 IXII\n",
      "generator 2: 1.00000000 ZIZI, paulix_op: 1.00000000 IIXI\n",
      "generator 3: 1.00000000 ZIIZ, paulix_op: 1.00000000 IIIX\n"
     ]
    }
   ],
   "source": [
    "generators_by_tapering_ = get_generators_from_kernel(\n",
    "    kernel_of_E(create_parity_check_matrix_E(*create_binary_matrix_G(Hami_ori)))\n",
    ")\n",
    "generators_by_tapering, paulix_ops_by_tapering = get_paulix_ops_from_generators(generators_by_tapering_)\n",
    "\n",
    "for idx, generator in enumerate(generators_by_tapering.terms):\n",
    "    print(f\"generator {idx+1}: {generator}, paulix_op: {paulix_ops_by_tapering.terms[idx]}\")"
   ]
  },
  {
   "cell_type": "markdown",
   "id": "cc833ef4",
   "metadata": {},
   "source": [
    "### 1.3.2 optimal sectors"
   ]
  },
  {
   "cell_type": "code",
   "execution_count": 12,
   "id": "114d80b2",
   "metadata": {},
   "outputs": [
    {
     "name": "stdout",
     "output_type": "stream",
     "text": [
      "sectors by qml: [1, -1, -1]\n",
      "sectors by tapering: [1, -1, -1]\n"
     ]
    }
   ],
   "source": [
    "print(f'sectors by qml: {paulix_sector_by_qml}')\n",
    "print(f'sectors by tapering: {optimal_sector(Hami_ori, generators_by_tapering, n_electrons)}')"
   ]
  },
  {
   "cell_type": "markdown",
   "id": "1df20c19",
   "metadata": {},
   "source": [
    "### 1.3.3 final eigen values"
   ]
  },
  {
   "cell_type": "code",
   "execution_count": 13,
   "id": "430833c0",
   "metadata": {},
   "outputs": [
    {
     "name": "stdout",
     "output_type": "stream",
     "text": [
      "Test: Hami_reduced_by_qml\n",
      "\n",
      "Sorted Eigenvalues: \n",
      "[-1.136189+1.172491e-17j  0.583326-2.560270e-17j]\n",
      "min eigenvalue:  (-1.1361891625218794+1.1724913018179507e-17j)\n"
     ]
    }
   ],
   "source": [
    "print('Test: Hami_reduced_by_qml\\n')\n",
    "print(\"Sorted Eigenvalues: \")\n",
    "eigvals_reduced_by_qml = np.linalg.eigvals(Hami_reduced_by_qml.matrix)\n",
    "print(np.sort(eigvals_reduced_by_qml))\n",
    "print('min eigenvalue: ', min(eigvals_reduced_by_qml))"
   ]
  },
  {
   "cell_type": "code",
   "execution_count": 14,
   "id": "9e60d34b",
   "metadata": {
    "scrolled": true
   },
   "outputs": [
    {
     "name": "stdout",
     "output_type": "stream",
     "text": [
      "Test: Hami_reduced_by_tapering\n",
      "\n",
      "Sorted Eigenvalues: \n",
      "[-1.136189+0.j  0.583326+0.j]\n",
      "min eigenvalue:  (-1.1361891625218794+0j)\n"
     ]
    }
   ],
   "source": [
    "print('Test: Hami_reduced_by_tapering\\n')\n",
    "print(\"Sorted Eigenvalues: \")\n",
    "eigvals_reduced_by_tapering = np.linalg.eigvals(Hami_reduced_by_tapering.matrix)\n",
    "print(np.sort(eigvals_reduced_by_tapering))\n",
    "print('min eigenvalue: ', min(eigvals_reduced_by_tapering))"
   ]
  },
  {
   "cell_type": "code",
   "execution_count": null,
   "id": "28a0fedf",
   "metadata": {},
   "outputs": [],
   "source": []
  }
 ],
 "metadata": {
  "kernelspec": {
   "display_name": "Python 3 (ipykernel)",
   "language": "python",
   "name": "python3"
  },
  "language_info": {
   "codemirror_mode": {
    "name": "ipython",
    "version": 3
   },
   "file_extension": ".py",
   "mimetype": "text/x-python",
   "name": "python",
   "nbconvert_exporter": "python",
   "pygments_lexer": "ipython3",
   "version": "3.9.13"
  }
 },
 "nbformat": 4,
 "nbformat_minor": 5
}
