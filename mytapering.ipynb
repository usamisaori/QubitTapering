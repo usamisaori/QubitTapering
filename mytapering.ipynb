{
 "cells": [
  {
   "cell_type": "code",
   "execution_count": 1,
   "id": "e26a4312",
   "metadata": {},
   "outputs": [],
   "source": [
    "from __future__ import annotations\n",
    "import numpy as np\n",
    "from typing import List, Tuple, Dict, Union, Optional, NewType"
   ]
  },
  {
   "cell_type": "code",
   "execution_count": 2,
   "id": "33b31fa6",
   "metadata": {},
   "outputs": [],
   "source": [
    "npmatrix = NewType('npmatrix', np.matrix)\n",
    "nparray = NewType('nparray', np.ndarray)"
   ]
  },
  {
   "cell_type": "markdown",
   "id": "36a37184",
   "metadata": {},
   "source": [
    "# 0. Tool functions"
   ]
  },
  {
   "cell_type": "code",
   "execution_count": 3,
   "id": "f4a0d16f",
   "metadata": {},
   "outputs": [],
   "source": [
    "from functools import reduce\n",
    "\n",
    "# eg. Dag(|a>) = <a|\n",
    "Dag = lambda matrix: matrix.conj().T\n",
    "# eg. Kron(I, X, Y) = I ⊗ X ⊗ Y，计算张量用\n",
    "Kron = lambda *matrices: reduce(np.kron, matrices)"
   ]
  },
  {
   "cell_type": "code",
   "execution_count": 4,
   "id": "b4d5c0c1",
   "metadata": {},
   "outputs": [],
   "source": [
    "I = np.eye(2)\n",
    "\n",
    "# pauli matrixes\n",
    "X = np.matrix([\n",
    "    [0, 1], [1, 0]\n",
    "])\n",
    "Y = np.matrix([\n",
    "    [0, -1j], [1j, 0]\n",
    "])\n",
    "Z = np.matrix([\n",
    "    [1, 0], [0, -1]\n",
    "])"
   ]
  },
  {
   "cell_type": "markdown",
   "id": "55c4bc22",
   "metadata": {},
   "source": [
    "# 1. PauliWords DataStructure"
   ]
  },
  {
   "cell_type": "code",
   "execution_count": 6,
   "id": "b0401dc6",
   "metadata": {},
   "outputs": [],
   "source": [
    "# PauliWords: 1.0 XX + 1.0 XY + 1.0 XI\n",
    "# PauliWord: 1.0 XX\n",
    "# PauliOp: X(qubit=1)"
   ]
  },
  {
   "cell_type": "markdown",
   "id": "e57c4640",
   "metadata": {},
   "source": [
    "## 1.1 PauliOp"
   ]
  },
  {
   "cell_type": "code",
   "execution_count": 7,
   "id": "b1d0d543",
   "metadata": {},
   "outputs": [],
   "source": [
    "class PauliOp:\n",
    "    def __init__(self, op_type: str, index: int):\n",
    "        if op_type not in [\"I\", \"X\", \"Y\", \"Z\"]:\n",
    "            raise ValueError(f\"operator tpye: {op_type} is not allowed!\")\n",
    "        self.type = op_type # I, X, Y, Z\n",
    "        self.index = index\n",
    "        \n",
    "    @property\n",
    "    def matrix(self) -> npmatrix:\n",
    "        if self.type == \"I\":\n",
    "            return I\n",
    "        elif self.type == \"X\":\n",
    "            return X\n",
    "        elif self.type == \"Y\":\n",
    "            return Y\n",
    "        elif self.type == \"Z\":\n",
    "            return Z\n",
    "        \n",
    "    def __str__(self) -> str:\n",
    "        return f\"{self.type} (qubit={self.index})\"\n",
    "    \n",
    "    def __repr__(self) -> str:\n",
    "        return f\"{self.type} (qubit={self.index})\""
   ]
  },
  {
   "cell_type": "markdown",
   "id": "be2b6ccb",
   "metadata": {},
   "source": [
    "## 1.2 PauliWord"
   ]
  },
  {
   "cell_type": "code",
   "execution_count": 8,
   "id": "70e2a6f7",
   "metadata": {},
   "outputs": [],
   "source": [
    "class PauliWord:\n",
    "    def __init__(self, op_type_str: str, coeff: complex = 1.0):\n",
    "        self.num_qubits = len(op_type_str)\n",
    "        self.op_type_str = op_type_str\n",
    "        self.ops = []\n",
    "        for idx, op_type in enumerate(op_type_str):\n",
    "            self.ops.append(PauliOp(op_type, idx))\n",
    "        self.coeff = coeff\n",
    "        \n",
    "    @property\n",
    "    def matrix(self) -> npmatrix:\n",
    "        ops = []\n",
    "        for op in self.ops:\n",
    "            ops.append(op.matrix)\n",
    "        \n",
    "        return self.coeff * Kron(*ops)\n",
    "    \n",
    "    def eliminate(self, eliminate_qubits_indexes: Union[int, List[int]]) -> None:\n",
    "        if not isinstance(eliminate_qubits_indexes, list):\n",
    "            eliminate_qubits_indexes = [eliminate_qubits_indexes]\n",
    "        \n",
    "        self.num_qubits -= len(eliminate_qubits_indexes)\n",
    "        op_type_str = self.op_type_str\n",
    "        op_type_arr = list(op_type_str)\n",
    "        for index in eliminate_qubits_indexes:\n",
    "            op_type_arr[index] = \"\"\n",
    "        self.op_type_str = \"\".join(op_type_arr)\n",
    "        \n",
    "        ops = []\n",
    "        for i, op in enumerate(self.ops):\n",
    "            if i not in eliminate_qubits_indexes:\n",
    "                ops.append(op)\n",
    "        self.ops = ops\n",
    "    \n",
    "    def __mul__(self, other: PauliWord) -> PauliWord:\n",
    "        if len(self.ops) != len(other.ops):\n",
    "            raise ValueError(\"Different size PauliWord cannot be multiplied\")\n",
    "            \n",
    "        coeff = self.coeff * other.coeff\n",
    "        return_op_type_arr = []\n",
    "        for op_l, op_r in zip(self.ops, other.ops):\n",
    "            if op_l.type == op_r.type: # XX = I, YY = I, ZZ = I\n",
    "                return_op_type_arr.append(\"I\")\n",
    "            elif op_l.type == \"I\": # IX = X\n",
    "                return_op_type_arr.append(op_r.type)\n",
    "            elif op_r.type == \"I\": # XI = X\n",
    "                return_op_type_arr.append(op_l.type)\n",
    "            elif op_l.type == \"X\" and op_r.type == \"Y\": # XY = iZ\n",
    "                coeff = 1j * coeff\n",
    "                return_op_type_arr.append(\"Z\")\n",
    "            elif op_l.type == \"Y\" and op_r.type == \"X\": # YX = -iZ\n",
    "                coeff = -1j * coeff\n",
    "                return_op_type_arr.append(\"Z\")\n",
    "            elif op_l.type == \"X\" and op_r.type == \"Z\": # XZ = -iY\n",
    "                coeff = -1j * coeff\n",
    "                return_op_type_arr.append(\"Y\")\n",
    "            elif op_l.type == \"Z\" and op_r.type == \"X\": # ZX = iY\n",
    "                coeff = 1j * coeff\n",
    "                return_op_type_arr.append(\"Y\")\n",
    "            elif op_l.type == \"Y\" and op_r.type == \"Z\": # YZ = iX\n",
    "                coeff = 1j * coeff\n",
    "                return_op_type_arr.append(\"X\")\n",
    "            elif op_l.type == \"Z\" and op_r.type == \"Y\": # ZY = -iX\n",
    "                coeff = -1j * coeff\n",
    "                return_op_type_arr.append(\"X\")\n",
    "                \n",
    "        return PauliWord(''.join(return_op_type_arr), coeff)\n",
    "        \n",
    "    def __str__(self) -> str:\n",
    "        pauli_word = [ op.type for op in self.ops ]\n",
    "        return f\"{self.coeff:.8f} {''.join(pauli_word)}\"\n",
    "    \n",
    "    def __repr__(self) -> str:\n",
    "        pauli_word = [ op.type for op in self.ops ]\n",
    "        return f\"{self.coeff:.8f} {''.join(pauli_word)}\""
   ]
  },
  {
   "cell_type": "markdown",
   "id": "d7d0659b",
   "metadata": {},
   "source": [
    "## 1.3 PauliWords"
   ]
  },
  {
   "cell_type": "code",
   "execution_count": 9,
   "id": "8150d70e",
   "metadata": {},
   "outputs": [],
   "source": [
    "from collections import defaultdict\n",
    "\n",
    "class PauliWords:\n",
    "    def __init__(self, op_type_strs: List[str], coeffs: Optional[List[complex]] = None):\n",
    "        if coeffs != None and len(op_type_strs) != len(coeffs):\n",
    "            raise ValueError(\"size of coeffs and size of op_type_strs should be the same!\")\n",
    "        if len(op_type_strs) == 0:\n",
    "            raise ValueError(\"op_type_strs shouldn't be empty!\")\n",
    "        \n",
    "        self.num_terms = len(op_type_strs)\n",
    "        self.num_qubits = len(op_type_strs[0])\n",
    "        if coeffs == None:\n",
    "            coeffs = [1.0] * self.num_terms\n",
    "        self.terms = []\n",
    "        for coeff, op_type_str in zip(coeffs, op_type_strs):\n",
    "            self.terms.append(PauliWord(op_type_str, coeff))\n",
    "            \n",
    "    @property\n",
    "    def matrix(self) -> npmatrix:\n",
    "        sub_hamis = [ term.matrix for term in self.terms ]\n",
    "        return sum(sub_hamis)\n",
    "    \n",
    "    def simplify(self) -> PauliWords:\n",
    "        term_dict = defaultdict(complex)\n",
    "        for term in self.terms:\n",
    "            term_dict[term.op_type_str] += term.coeff\n",
    "            \n",
    "        terms = []\n",
    "        coeffs = []\n",
    "        term_dict = { k:v for k,v in term_dict.items() if not abs(v) < 1e-10 }\n",
    "        for k, v in term_dict.items():\n",
    "            terms.append(PauliWord(k, v))\n",
    "            coeffs.append(v)\n",
    "            \n",
    "        self.terms = terms\n",
    "        self.coeffs = coeffs\n",
    "        self.num_terms = len(terms)\n",
    "            \n",
    "        return self\n",
    "    \n",
    "    def eliminate(self, eliminate_qubits_indexes: Union[int, List[int]]) -> None:\n",
    "        if not isinstance(eliminate_qubits_indexes, list):\n",
    "            eliminate_qubits_indexes = [eliminate_qubits_indexes]\n",
    "        \n",
    "        self.num_qubits -= len(eliminate_qubits_indexes)\n",
    "        for term in self.terms:\n",
    "            term.eliminate(eliminate_qubits_indexes)\n",
    "    \n",
    "    def __mul__(self, other: PauliWords) -> PauliWords:\n",
    "        terms = []\n",
    "        for term_l in self.terms:\n",
    "            for term_r in other.terms:\n",
    "                terms.append(term_l * term_r)\n",
    "        \n",
    "        op_type_strs = []\n",
    "        coeffs = []\n",
    "        for term in terms:\n",
    "            op_type_strs.append(term.op_type_str)\n",
    "            coeffs.append(term.coeff)\n",
    "            \n",
    "        return PauliWords(op_type_strs, coeffs)\n",
    "            \n",
    "    def __str__(self) -> str:\n",
    "        returns = []\n",
    "        for pauliword in self.terms:\n",
    "            returns.append(str(pauliword))\n",
    "        return \"\\n\".join(returns)\n",
    "            \n",
    "    def __repr__(self) -> str:\n",
    "        returns = []\n",
    "        for pauliword in self.terms:\n",
    "            returns.append(repr(pauliword))\n",
    "        return \"\\n\".join(returns)"
   ]
  },
  {
   "cell_type": "markdown",
   "id": "3a6b4e71",
   "metadata": {},
   "source": [
    "# 2. Construct Binary Matrix G(Gx | Gz) and parity check matrix E"
   ]
  },
  {
   "cell_type": "code",
   "execution_count": 10,
   "id": "db174e5f",
   "metadata": {},
   "outputs": [],
   "source": [
    "# https://arxiv.org/pdf/1701.08213.pdf"
   ]
  },
  {
   "cell_type": "code",
   "execution_count": 11,
   "id": "7f551412",
   "metadata": {},
   "outputs": [],
   "source": [
    "def print_G(G_x: nparray, G_z: nparray) -> None:\n",
    "    row = len(G_x)\n",
    "    col = len(G_x[0])\n",
    "    G_str = ''\n",
    "    \n",
    "    for r in range(row):\n",
    "        for c in range(col):\n",
    "            G_str += f\"  {int(G_x[r][c])}\"\n",
    "        G_str += '\\n'\n",
    "    G_str += ' ' + '-' * 3 * col + '\\n'\n",
    "    \n",
    "    for r in range(row):\n",
    "        for c in range(col):\n",
    "            G_str += f\"  {int(G_z[r][c])}\"\n",
    "        G_str += '\\n'\n",
    "        \n",
    "    print(G_str)"
   ]
  },
  {
   "cell_type": "code",
   "execution_count": 12,
   "id": "ee717f46",
   "metadata": {},
   "outputs": [],
   "source": [
    "def print_E(E: nparray) -> None:\n",
    "    row = len(E)\n",
    "    col = len(E[0])\n",
    "    E_str = ''\n",
    "    \n",
    "    for r in range(row):\n",
    "        for c in range(col):\n",
    "            if c == col // 2:\n",
    "                E_str += \"  |\"\n",
    "            E_str += f\"  {int(E[r][c])}\"\n",
    "        E_str += '\\n'\n",
    "        \n",
    "    print(E_str)"
   ]
  },
  {
   "cell_type": "markdown",
   "id": "c351b4cc",
   "metadata": {},
   "source": [
    "## 2.1 Binary Matrix G(Gx, Gz)"
   ]
  },
  {
   "cell_type": "code",
   "execution_count": 13,
   "id": "8ad8fc4c",
   "metadata": {},
   "outputs": [],
   "source": [
    "def create_binary_matrix_G(pauli_words: PauliWords) -> Tuple[nparray, nparray]:\n",
    "    if not isinstance(pauli_words, PauliWords):\n",
    "        raise ValueError(\"input should be a PauliWords instance\")\n",
    "    \n",
    "    # size of Gx / Gz is (num_qubits, num_terms)\n",
    "    num_terms = pauli_words.num_terms\n",
    "    num_qubits = pauli_words.num_qubits\n",
    "    G_x = np.zeros((num_qubits, num_terms))\n",
    "    G_z = np.zeros((num_qubits, num_terms))\n",
    "    \n",
    "    for col_idx, term in enumerate(pauli_words.terms):\n",
    "        for row_idx, op in enumerate(term.ops):\n",
    "            if op.type == 'X':\n",
    "                G_x[row_idx][col_idx] = 1\n",
    "            elif op.type == 'Y':\n",
    "                G_x[row_idx][col_idx] = 1\n",
    "                G_z[row_idx][col_idx] = 1\n",
    "            elif op.type == 'Z':\n",
    "                G_z[row_idx][col_idx] = 1\n",
    "    \n",
    "    return G_x, G_z"
   ]
  },
  {
   "cell_type": "markdown",
   "id": "ef7fc656",
   "metadata": {},
   "source": [
    "## 2.2 parity check matrix"
   ]
  },
  {
   "cell_type": "code",
   "execution_count": 14,
   "id": "5ae3c2b8",
   "metadata": {},
   "outputs": [],
   "source": [
    "def create_parity_check_matrix_E(G_x: nparray, G_z: nparray) -> nparray:\n",
    "    E_x = G_z.T\n",
    "    E_z = G_x.T\n",
    "    \n",
    "    return np.hstack((E_x, E_z))"
   ]
  },
  {
   "cell_type": "markdown",
   "id": "ea0475e5",
   "metadata": {},
   "source": [
    "# 3. kernel calculation and create Generator"
   ]
  },
  {
   "cell_type": "code",
   "execution_count": 15,
   "id": "bc738574",
   "metadata": {},
   "outputs": [],
   "source": [
    "# E --(need: Gauss Jordan elimination)--> kernel(E)\n",
    "#   --> generators --> paulix_ops"
   ]
  },
  {
   "cell_type": "markdown",
   "id": "d8edf20d",
   "metadata": {},
   "source": [
    "## 3.0 Gauss Jordan elimination"
   ]
  },
  {
   "cell_type": "code",
   "execution_count": 16,
   "id": "1dcde156",
   "metadata": {},
   "outputs": [],
   "source": [
    "def remove_zeros_rows(m: nparray) -> List[nparray]:\n",
    "    return_m = []\n",
    "    for row in m:\n",
    "        if sum(row) > 0:\n",
    "            return_m.append(row)\n",
    "    \n",
    "    return return_m"
   ]
  },
  {
   "cell_type": "code",
   "execution_count": 17,
   "id": "fb57d11b",
   "metadata": {},
   "outputs": [],
   "source": [
    "def xor(m: nparray, i: int, j: int) -> nparray:\n",
    "    for k in range(len(m[0])):\n",
    "        m[j][k] ^= m[i][k]\n",
    "    \n",
    "    return m"
   ]
  },
  {
   "cell_type": "code",
   "execution_count": 18,
   "id": "b97ce6b2",
   "metadata": {},
   "outputs": [],
   "source": [
    "def perform_gauss_jordan_elimination(m: List[nparray]) -> nparray:\n",
    "    dimension = len(m)\n",
    "    \n",
    "    # 1. Forward Elimination\n",
    "    r = 0\n",
    "    right_most_col = 0\n",
    "    lowest_row = 0\n",
    "    \n",
    "    for c in range(len(m[0]) - 1):\n",
    "        _swap = False\n",
    "        _xor  = False\n",
    "        for j in range(r + 1, dimension):\n",
    "            if m[r][c] == 0 and m[j][c] == 1:\n",
    "                m[r], m[j] = m[j], m[r]\n",
    "                _swap = True\n",
    "            if m[r][c] == 1:\n",
    "                _xor = True\n",
    "                if m[j][c] == 1:\n",
    "                    m = xor(m, r, j)\n",
    "\n",
    "        if m[r][c] == 1:\n",
    "            right_most_col = c\n",
    "            lowest_row = r\n",
    "        if _swap or _xor:\n",
    "            r += 1\n",
    "\n",
    "    # 2. Backward Substitution\n",
    "    r = lowest_row\n",
    "    for c in range(right_most_col, 0, -1):\n",
    "        _xor = False\n",
    "        \n",
    "        for j in range(r - 1, -1, -1):\n",
    "            if m[r][c] == 1 and m[j][c] == 1:\n",
    "                _xor = True\n",
    "                m = xor(m, r, j)\n",
    "                    \n",
    "        if m[r][c - 1] == 0:\n",
    "            r -= 1\n",
    "\n",
    "    return m"
   ]
  },
  {
   "cell_type": "code",
   "execution_count": 19,
   "id": "eca0d979",
   "metadata": {},
   "outputs": [],
   "source": [
    "def solve_GJE(m: nparray) -> nparray:\n",
    "    if len(m[0]) > 2:\n",
    "        m = remove_zeros_rows(m)\n",
    "        m = perform_gauss_jordan_elimination(m)\n",
    "        \n",
    "    return m"
   ]
  },
  {
   "cell_type": "markdown",
   "id": "867dc169",
   "metadata": {},
   "source": [
    "## 3.1 calculate kernel of E"
   ]
  },
  {
   "cell_type": "code",
   "execution_count": 20,
   "id": "e2c4d101",
   "metadata": {},
   "outputs": [],
   "source": [
    "from sympy import Matrix\n",
    "\n",
    "def kernel_of_E(E: nparray) -> nparray:\n",
    "    E_ = solve_GJE(E.astype(int))\n",
    "    E_ = Matrix(E_)\n",
    "    kernel_vectors = []\n",
    "    \n",
    "    for vector in E_.nullspace():\n",
    "        kernel_vectors.append(\n",
    "            abs(np.array(vector)) \n",
    "                .flatten()\n",
    "                .astype(int)\n",
    "        ) # => eg. [1, 0, 0, 1]\n",
    "    \n",
    "    return np.array(kernel_vectors)"
   ]
  },
  {
   "cell_type": "markdown",
   "id": "f6517e10",
   "metadata": {},
   "source": [
    "## 3.2 kernel => generators"
   ]
  },
  {
   "cell_type": "code",
   "execution_count": 21,
   "id": "5ae43d25",
   "metadata": {},
   "outputs": [],
   "source": [
    "def get_generator_from_kernel(kernel_vector: nparray) -> PauliWord:\n",
    "    num_qubits = len(kernel_vector) // 2\n",
    "    \n",
    "    op_type_arr = []\n",
    "    for qubit_idx in range(num_qubits):\n",
    "        if kernel_vector[qubit_idx] == 1 and kernel_vector[qubit_idx + num_qubits] == 1:\n",
    "            op_type_arr.append(\"Y\")\n",
    "        elif kernel_vector[qubit_idx] == 1:\n",
    "            op_type_arr.append(\"X\")\n",
    "        elif kernel_vector[qubit_idx + num_qubits] == 1:\n",
    "            op_type_arr.append(\"Z\")\n",
    "        else:\n",
    "            op_type_arr.append(\"I\")\n",
    "    op_type_str = ''.join(op_type_arr)\n",
    "    \n",
    "    return PauliWord(op_type_str)"
   ]
  },
  {
   "cell_type": "code",
   "execution_count": 22,
   "id": "2ebf0f41",
   "metadata": {},
   "outputs": [],
   "source": [
    "def get_generators_from_kernel(kernel_vectors: nparray) -> PauliWords:\n",
    "    if len(kernel_vectors) == 0:\n",
    "        raise ValueError(\"input kernel is empty!\")\n",
    "        \n",
    "    generators = [ get_generator_from_kernel(kernel_vector).op_type_str \n",
    "                  for kernel_vector in kernel_vectors ]\n",
    "    \n",
    "    return PauliWords(generators)"
   ]
  },
  {
   "cell_type": "markdown",
   "id": "a27b963c",
   "metadata": {},
   "source": [
    "## 3.3 generators => corresponding paulixop"
   ]
  },
  {
   "cell_type": "markdown",
   "id": "60232486",
   "metadata": {},
   "source": [
    "### - tool functions to check commutes or anti-commutes property"
   ]
  },
  {
   "cell_type": "code",
   "execution_count": 24,
   "id": "843f0887",
   "metadata": {},
   "outputs": [],
   "source": [
    "def is_commutes(generator: PauliWord, paulix_index: int) -> bool:\n",
    "    # paulix_op: III...X..II\n",
    "    # generator: ???...△..II\n",
    "    # only need to check X△ = △X => △ = 'X' or 'I'\n",
    "    return generator.ops[paulix_index].type == 'X' or \\\n",
    "        generator.ops[paulix_index].type == 'I'"
   ]
  },
  {
   "cell_type": "code",
   "execution_count": 25,
   "id": "08aaab05",
   "metadata": {},
   "outputs": [],
   "source": [
    "def is_anti_commutes(generator: PauliWord, paulix_index: int) -> bool:\n",
    "    # paulix_op: III...X..II\n",
    "    # generator: ???...△..II\n",
    "    # only need to check X△ = -△X => △ = 'Z' or 'Y'\n",
    "    return generator.ops[paulix_index].type == 'Z' or \\\n",
    "        generator.ops[paulix_index].type == 'Y'"
   ]
  },
  {
   "cell_type": "markdown",
   "id": "228377a8",
   "metadata": {},
   "source": [
    "### - get paulix_op from generator"
   ]
  },
  {
   "cell_type": "code",
   "execution_count": 27,
   "id": "d13b5848",
   "metadata": {},
   "outputs": [],
   "source": [
    "def get_paulix_op_from_generator(i: int, generator: PauliWord, generators: PauliWords) -> Tuple[bool, Optional[PauliWord]]:\n",
    "    for op in reversed(generator.ops):\n",
    "        if op.type != 'I':\n",
    "            op_type_arr = [\"I\"] * generator.num_qubits\n",
    "            op_type_arr[op.index] = \"X\"\n",
    "            paulix_op = PauliWord(''.join(op_type_arr))\n",
    "            \n",
    "            # X_q(i) anti-commutes with tau_i\n",
    "            if not is_anti_commutes(generator, op.index): continue\n",
    "            # X_q(i) commutes with tau_j (j≠i)\n",
    "            for j, generator_j in enumerate(generators.terms):\n",
    "                if j != i:\n",
    "                    if not is_commutes(generator_j, op.index): continue\n",
    "            return True, paulix_op\n",
    "    \n",
    "    return False, None"
   ]
  },
  {
   "cell_type": "code",
   "execution_count": 28,
   "id": "8468042b",
   "metadata": {},
   "outputs": [],
   "source": [
    "def get_paulix_ops_from_generators(generators: PauliWords) -> Tuple[PauliWords, PauliWords]:\n",
    "    rechecked_generators = []\n",
    "    paulix_ops = []\n",
    "    \n",
    "    for i, generator in enumerate(generators.terms):\n",
    "        flag, paulix_op = get_paulix_op_from_generator(i, generator, generators)\n",
    "        if flag:\n",
    "            rechecked_generators.append(generator.op_type_str)\n",
    "            paulix_ops.append(paulix_op.op_type_str)\n",
    "    \n",
    "    return PauliWords(rechecked_generators), PauliWords(paulix_ops)"
   ]
  },
  {
   "cell_type": "markdown",
   "id": "944ed996",
   "metadata": {},
   "source": [
    "# 4. Construct unitary matrix U"
   ]
  },
  {
   "cell_type": "code",
   "execution_count": 29,
   "id": "edf1d7c4",
   "metadata": {},
   "outputs": [],
   "source": [
    "# generators + paulix_ops    optimal sector\n",
    "#            ↘                   ↙\n",
    "#       unitary matrix U     adjusted Hamilton\n",
    "#              ↘             ↙\n",
    "#                  H' = U†HU"
   ]
  },
  {
   "cell_type": "code",
   "execution_count": 30,
   "id": "8a24c822",
   "metadata": {},
   "outputs": [],
   "source": [
    "def construct_U(generators: PauliWords, paulix_ops: PauliWords) -> List[PauliWords]:\n",
    "    c = 1 / (2 ** 0.5) \n",
    "    Us = []\n",
    "    \n",
    "    for generator, paulix_op in zip(generators.terms, paulix_ops.terms):\n",
    "        Us.append(PauliWords(\n",
    "            [paulix_op.op_type_str, generator.op_type_str],\n",
    "            [c * paulix_op.coeff, c * generator.coeff]\n",
    "        ))\n",
    "        \n",
    "    return Us"
   ]
  },
  {
   "cell_type": "markdown",
   "id": "4baf1589",
   "metadata": {},
   "source": [
    "## 4.1 Adjust Hamilton by optimal sector"
   ]
  },
  {
   "cell_type": "code",
   "execution_count": 31,
   "id": "a2fbaa2c",
   "metadata": {},
   "outputs": [],
   "source": [
    "# eg. H: XYYX, paulix_ops: IXII IIXI IIIX, sectors: [1, -1, -1]\n",
    "# XYYX --(applying: IXII IIXI)--> [1, -1] -> -XYYX"
   ]
  },
  {
   "cell_type": "markdown",
   "id": "9828e872",
   "metadata": {},
   "source": [
    "### - get optimal sector"
   ]
  },
  {
   "cell_type": "code",
   "execution_count": 32,
   "id": "5cdf7bc7",
   "metadata": {},
   "outputs": [],
   "source": [
    "def optimal_sector(Hami: PauliWords, generators: PauliWords, active_electrons: int) -> List[int]:\n",
    "    num_orbitals = Hami.num_qubits\n",
    "\n",
    "    if active_electrons > num_orbitals:\n",
    "        raise ValueError(\n",
    "            f\"Number of active orbitals cannot be smaller than number of active electrons;\"\n",
    "            f\" got 'orbitals'={num_orbitals} < 'electrons'={active_electrons}.\"\n",
    "        )\n",
    "\n",
    "    hf_str = np.where(np.arange(num_orbitals) < active_electrons, 1, 0)\n",
    "\n",
    "    perm = []\n",
    "    for generator in generators.terms:\n",
    "        symmstr = np.array([1 if generator.ops[qubit].type != 'I' else 0 for qubit in range(Hami.num_qubits)])\n",
    "        coeff = -1 if np.logical_xor.reduce(np.logical_and(symmstr, hf_str)) else 1\n",
    "        perm.append(coeff)\n",
    "\n",
    "    return perm"
   ]
  },
  {
   "cell_type": "markdown",
   "id": "a499fadc",
   "metadata": {},
   "source": [
    "### - pauli x index of paulix_ops"
   ]
  },
  {
   "cell_type": "code",
   "execution_count": 33,
   "id": "0b38c760",
   "metadata": {},
   "outputs": [],
   "source": [
    "def get_paulix_op_indexes(paulix_ops: PauliWords) -> List[int]:\n",
    "    x_indexes = []\n",
    "    \n",
    "    for paulix_op in paulix_ops.terms:\n",
    "        for op in paulix_op.ops:\n",
    "            if op.type == \"X\":\n",
    "                x_indexes.append(op.index)\n",
    "                break\n",
    "    \n",
    "    return x_indexes"
   ]
  },
  {
   "cell_type": "markdown",
   "id": "da231973",
   "metadata": {},
   "source": [
    "### - adjust hamilton by optimal sector"
   ]
  },
  {
   "cell_type": "code",
   "execution_count": 34,
   "id": "9fd7f826",
   "metadata": {},
   "outputs": [],
   "source": [
    "def adjust_hamilton_by_optimal_sector(Hami: PauliWords, paulix_ops: PauliWords, optimal_sector: List[int]) -> PauliWords:\n",
    "    x_indexes = get_paulix_op_indexes(paulix_ops)\n",
    "    \n",
    "    terms = []\n",
    "    coeffs = []\n",
    "    for i, term in enumerate(Hami.terms):\n",
    "        terms.append(term.op_type_str)\n",
    "        coeff = term.coeff\n",
    "        \n",
    "        for x_index, sector in zip(x_indexes, optimal_sector):\n",
    "            if term.ops[x_index].type != \"I\" and term.ops[x_index].type != \"X\":\n",
    "                coeff *= sector\n",
    "        \n",
    "        coeffs.append(coeff)\n",
    "            \n",
    "    return PauliWords(terms, coeffs)"
   ]
  },
  {
   "cell_type": "markdown",
   "id": "9dbc13b1",
   "metadata": {},
   "source": [
    "## 4.2 calculate H' = U†HU"
   ]
  },
  {
   "cell_type": "code",
   "execution_count": 35,
   "id": "02515e30",
   "metadata": {},
   "outputs": [],
   "source": [
    "def unitary_transform(Us: List[PauliWords], Hami: PauliWords) -> PauliWords:\n",
    "    H_prime = Hami\n",
    "    \n",
    "    for U in Us:\n",
    "        H_prime = U * H_prime * U\n",
    "        H_prime = H_prime.simplify()\n",
    "        \n",
    "    return H_prime"
   ]
  },
  {
   "cell_type": "markdown",
   "id": "16e18756",
   "metadata": {},
   "source": [
    "# 5. Eliminate extra qubits H' => H''"
   ]
  },
  {
   "cell_type": "code",
   "execution_count": 36,
   "id": "b94bcae3",
   "metadata": {},
   "outputs": [],
   "source": [
    "def eliminate_qubits(Hami_prime: PauliWords, paulix_ops: PauliWords) -> PauliWords:\n",
    "    eliminate_qubits_indexes = []\n",
    "    for paulix_op in paulix_ops.terms:\n",
    "        for op in paulix_op.ops:\n",
    "            if op.type == 'X':\n",
    "                eliminate_qubits_indexes.append(op.index)\n",
    "                break\n",
    "    \n",
    "    Hami_prime.eliminate(eliminate_qubits_indexes)\n",
    "    \n",
    "    return Hami_prime.simplify()"
   ]
  },
  {
   "cell_type": "markdown",
   "id": "f0a507a6",
   "metadata": {},
   "source": [
    "## 6. Hamiltonian to PauliWords"
   ]
  },
  {
   "cell_type": "code",
   "execution_count": 37,
   "id": "c06781e9",
   "metadata": {},
   "outputs": [],
   "source": [
    "from pennylane import operation, Hamiltonian"
   ]
  },
  {
   "cell_type": "code",
   "execution_count": 38,
   "id": "6b81448a",
   "metadata": {},
   "outputs": [],
   "source": [
    "def switch_op(operator: operation) -> Tuple[npmatrix, str]:\n",
    "    try:\n",
    "        name = operator.base_name\n",
    "    except:\n",
    "        name = operator\n",
    "    \n",
    "    if name == \"Identity\" or name == \"I\":\n",
    "        op = I; label = \"I\"\n",
    "    elif name == \"PauliX\" or name == \"X\":\n",
    "        op = X; label = \"X\"\n",
    "    elif name == \"PauliY\" or name == \"Y\":\n",
    "        op = Y; label = \"Y\"\n",
    "    elif name == \"PauliZ\" or name == \"Z\":\n",
    "        op = Z; label = \"Z\"\n",
    "        \n",
    "    return op, label"
   ]
  },
  {
   "cell_type": "code",
   "execution_count": 39,
   "id": "8ac946f6",
   "metadata": {},
   "outputs": [],
   "source": [
    "def create_pauliwords_from_hamilton(H: Hamiltonian, qubits: int) -> PauliWords:\n",
    "    coeffs = []\n",
    "    terms = []\n",
    "    for i, op in enumerate(H.ops):\n",
    "        op_labels = ['I' for i in range(qubits)]\n",
    "        sub_Hami = [I for i in range(qubits)]\n",
    "\n",
    "        if type(op) == operation.Tensor:\n",
    "            for ob in op.obs:\n",
    "                operator, label = switch_op(ob)\n",
    "                idx = int(ob.wires.labels[0])\n",
    "                sub_Hami[idx] = operator\n",
    "                op_labels[idx] = label\n",
    "        else:\n",
    "            operator, label = switch_op(op)\n",
    "            idx = int(op.wires.labels[0])\n",
    "            sub_Hami[idx] = operator\n",
    "            op_labels[idx] = label\n",
    "        \n",
    "        coeff = H.coeffs[i]\n",
    "        coeffs.append(coeff)\n",
    "        print(f\"{'-' if coeff < 0 else ' '}{abs(coeff):.12f} {''.join(op_labels)}\")\n",
    "        terms.append(''.join(op_labels))\n",
    "    \n",
    "    return PauliWords(terms, coeffs)"
   ]
  },
  {
   "cell_type": "code",
   "execution_count": 40,
   "id": "ed9b915f",
   "metadata": {},
   "outputs": [],
   "source": [
    "def tapering(Hami: PauliWords, n_electrons: int) -> PauliWords:\n",
    "    # generate binary matrix G(Gx|Gz) and parity check matrix E\n",
    "    G_x, G_z = create_binary_matrix_G(Hami)\n",
    "    E = create_parity_check_matrix_E(G_x, G_z)\n",
    "    \n",
    "    # get generators and corresponding paulix_ops using kernel(E)\n",
    "    kernel_vectors = kernel_of_E(E)\n",
    "    generators = get_generators_from_kernel(kernel_vectors)\n",
    "    rechecked_generators, paulix_ops = get_paulix_ops_from_generators(generators)\n",
    "    \n",
    "    # get optimal sector and adjust Hamilton\n",
    "    sector = optimal_sector(Hami, rechecked_generators, n_electrons)\n",
    "    Hami_adjusted = adjust_hamilton_by_optimal_sector(Hami, paulix_ops, sector)\n",
    "    \n",
    "    # construct unitary U, and get H' = U†HU\n",
    "    Us = construct_U(rechecked_generators, paulix_ops)\n",
    "    Hami_prime = unitary_transform(Us, Hami_adjusted)\n",
    "    \n",
    "    # eliminated extra qubits\n",
    "    Hami_prime_eliminated = eliminate_qubits(Hami_prime, paulix_ops)\n",
    "    \n",
    "    return Hami_prime_eliminated"
   ]
  },
  {
   "cell_type": "code",
   "execution_count": null,
   "id": "aafc64b8",
   "metadata": {},
   "outputs": [],
   "source": []
  }
 ],
 "metadata": {
  "kernelspec": {
   "display_name": "Python 3 (ipykernel)",
   "language": "python",
   "name": "python3"
  },
  "language_info": {
   "codemirror_mode": {
    "name": "ipython",
    "version": 3
   },
   "file_extension": ".py",
   "mimetype": "text/x-python",
   "name": "python",
   "nbconvert_exporter": "python",
   "pygments_lexer": "ipython3",
   "version": "3.9.13"
  }
 },
 "nbformat": 4,
 "nbformat_minor": 5
}
